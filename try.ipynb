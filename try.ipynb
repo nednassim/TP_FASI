{
 "cells": [
  {
   "cell_type": "code",
   "execution_count": 11,
   "metadata": {},
   "outputs": [],
   "source": [
    "import numpy as np\n",
    "import pandas as pd\n",
    "from sklearn.metrics import confusion_matrix, accuracy_score\n",
    "from sklearn.metrics import mean_squared_error\n",
    "from sklearn.metrics import mean_absolute_error\n",
    "from sklearn.metrics import r2_score"
   ]
  },
  {
   "cell_type": "code",
   "execution_count": 10,
   "metadata": {},
   "outputs": [],
   "source": [
    "dataset = pd.read_csv('heart1.csv')\n",
    "X = dataset.iloc[:,:-1].values\n",
    "y = dataset.iloc[:,-1].values"
   ]
  },
  {
   "cell_type": "code",
   "execution_count": null,
   "metadata": {},
   "outputs": [
    {
     "ename": "NameError",
     "evalue": "name 'X' is not defined",
     "output_type": "error",
     "traceback": [
      "\u001b[31m---------------------------------------------------------------------------\u001b[39m",
      "\u001b[31mNameError\u001b[39m                                 Traceback (most recent call last)",
      "\u001b[36mCell\u001b[39m\u001b[36m \u001b[39m\u001b[32mIn[3]\u001b[39m\u001b[32m, line 5\u001b[39m\n\u001b[32m      2\u001b[39m \u001b[38;5;28;01mimport\u001b[39;00m\u001b[38;5;250m \u001b[39m\u001b[34;01mnumpy\u001b[39;00m\u001b[38;5;250m \u001b[39m\u001b[38;5;28;01mas\u001b[39;00m\u001b[38;5;250m \u001b[39m\u001b[34;01mnp\u001b[39;00m\n\u001b[32m      4\u001b[39m \u001b[38;5;66;03m# Create a copy of X to avoid modifying the original data\u001b[39;00m\n\u001b[32m----> \u001b[39m\u001b[32m5\u001b[39m X_encoded = \u001b[43mX\u001b[49m.copy()\n\u001b[32m      7\u001b[39m \u001b[38;5;66;03m# For each categorical column\u001b[39;00m\n\u001b[32m      8\u001b[39m categorical_columns = [\u001b[32m2\u001b[39m, \u001b[32m8\u001b[39m, \u001b[32m13\u001b[39m, \u001b[32m15\u001b[39m, \u001b[32m19\u001b[39m]  \u001b[38;5;66;03m# Your categorical feature indices\u001b[39;00m\n",
      "\u001b[31mNameError\u001b[39m: name 'X' is not defined"
     ]
    }
   ],
   "source": [
    "# Encoding Categorical Data\n",
    "from sklearn.preprocessing import OneHotEncoder\n",
    "#cp\n",
    "oneHotEncoder = OneHotEncoder(categorical_features=[2],n_values='auto')\n",
    "oneHotEncoder.fit(X)\n",
    "X = oneHotEncoder.transform(X).toarray()\n",
    "X = X[:, 1:]\n",
    "#restecg\n",
    "oneHotEncoder = OneHotEncoder(categorical_features=[8],n_values='auto')\n",
    "oneHotEncoder.fit(X)\n",
    "X = oneHotEncoder.transform(X).toarray()\n",
    "X = X[:, 1:]\n",
    "#slope\n",
    "oneHotEncoder = OneHotEncoder(categorical_features=[13],n_values='auto')\n",
    "oneHotEncoder.fit(X)\n",
    "X = oneHotEncoder.transform(X).toarray()\n",
    "X = X[:, 1:]\n",
    "#ca\n",
    "oneHotEncoder = OneHotEncoder(categorical_features=[15],n_values='auto')\n",
    "oneHotEncoder.fit(X)\n",
    "X = oneHotEncoder.transform(X).toarray()\n",
    "X = X[:, 1:]\n",
    "#thal\n",
    "oneHotEncoder = OneHotEncoder(categorical_features=[19],n_values='auto')\n",
    "oneHotEncoder.fit(X)\n",
    "X = oneHotEncoder.transform(X).toarray()\n",
    "X = X[:, 1:]\n",
    "\n",
    "from sklearn.preprocessing import StandardScaler\n",
    "scalerX = StandardScaler()\n",
    "X = scalerX.fit_transform(X)"
   ]
  },
  {
   "cell_type": "code",
   "execution_count": null,
   "metadata": {},
   "outputs": [
    {
     "ename": "",
     "evalue": "",
     "output_type": "error",
     "traceback": [
      "\u001b[1;31mRunning cells with 'Python 2.7.18' requires the ipykernel package.\n",
      "\u001b[1;31mRun the following command to install 'ipykernel' into the Python environment. \n",
      "\u001b[1;31mCommand: '/bin/python2 -m pip install ipykernel -U --user --force-reinstall'"
     ]
    }
   ],
   "source": [
    "from sklearn.model_selection import train_test_splitXTrain, XTest, yTrain\n",
    "yTest = train_test_split(X, y, test_size=0.3,random_state=0)"
   ]
  }
 ],
 "metadata": {
  "kernelspec": {
   "display_name": "Python 3",
   "language": "python",
   "name": "python3"
  },
  "language_info": {
   "codemirror_mode": {
    "name": "ipython",
    "version": 3
   },
   "file_extension": ".py",
   "mimetype": "text/x-python",
   "name": "python",
   "nbconvert_exporter": "python",
   "pygments_lexer": "ipython3",
   "version": "2.7.18"
  }
 },
 "nbformat": 4,
 "nbformat_minor": 2
}
